{
 "cells": [
  {
   "cell_type": "code",
   "source": [
    "import matplotlib.pyplot as plt\n",
    "import numpy as np\n",
    "from sympy import *"
   ],
   "execution_count": 4,
   "outputs": [],
   "metadata": {}
  },
  {
   "cell_type": "code",
   "source": [
    "X=np.linspace(-0.07,0.07,1000)\n",
    "Pi=np.pi"
   ],
   "execution_count": 5,
   "outputs": [],
   "metadata": {}
  },
  {
   "cell_type": "code",
   "source": [
    "z=0.82\n",
    "k=(2*np.pi)/(632.8*(10**(-9)))\n",
    "d=0.16*10**(-3)\n",
    "A=20\n",
    "def I(x):\n",
    "    return A*(2*z*np.sin((d*k*x)/(2*z))**2)/(k*np.pi*x**2)\n",
    "data=np.genfromtxt('sweep 2 (1).txt', delimiter='\\t', skip_header=8, names='index, time, ch0, ch1')\n",
    "plt.plot(0.1*data['ch1']+0.004,-0.5*data['ch0'])\n",
    "plt.plot(X,I(X))\n",
    "plt.legend(['data','theory'])\n",
    "plt.show()"
   ],
   "execution_count": 8,
   "outputs": [
    {
     "data": {
      "text/plain": "<Figure size 432x288 with 1 Axes>",
      "image/png": "[encoded data removed]"
     },
     "metadata": {
      "needs_background": "light"
     },
     "output_type": "display_data"
    }
   ],
   "metadata": {}
  },
  {
   "cell_type": "code",
   "source": [
    "z=1\n",
    "k=1\n",
    "d=1\n",
    "L=1\n",
    "def I(x):\n",
    "    return (8*z*np.cos((k*L*x)/(2*z))**2*np.sin((d*k*x)/(2*z))**2)/(k*Pi*x**2)\n",
    "data=np.genfromtxt('data2.csv', delimiter=',')\n",
    "plt.figure()\n",
    "plt.plot(X,data)\n",
    "plt.plot(X,I(X))\n",
    "plt.legend(['data','expected'])\n",
    "plt.show()"
   ],
   "execution_count": 7,
   "outputs": [
    {
     "ename": "OSError",
     "evalue": "data2.csv not found.",
     "output_type": "error",
     "traceback": [
      "\u001B[1;31m---------------------------------------------------------------------------\u001B[0m",
      "\u001B[1;31mOSError\u001B[0m                                   Traceback (most recent call last)",
      "\u001B[1;32m<ipython-input-7-9c6dd9379e6a>\u001B[0m in \u001B[0;36m<module>\u001B[1;34m\u001B[0m\n\u001B[0;32m      5\u001B[0m \u001B[1;32mdef\u001B[0m \u001B[0mI\u001B[0m\u001B[1;33m(\u001B[0m\u001B[0mx\u001B[0m\u001B[1;33m)\u001B[0m\u001B[1;33m:\u001B[0m\u001B[1;33m\u001B[0m\u001B[1;33m\u001B[0m\u001B[0m\n\u001B[0;32m      6\u001B[0m     \u001B[1;32mreturn\u001B[0m \u001B[1;33m(\u001B[0m\u001B[1;36m8\u001B[0m\u001B[1;33m*\u001B[0m\u001B[0mz\u001B[0m\u001B[1;33m*\u001B[0m\u001B[0mnp\u001B[0m\u001B[1;33m.\u001B[0m\u001B[0mcos\u001B[0m\u001B[1;33m(\u001B[0m\u001B[1;33m(\u001B[0m\u001B[0mk\u001B[0m\u001B[1;33m*\u001B[0m\u001B[0mL\u001B[0m\u001B[1;33m*\u001B[0m\u001B[0mx\u001B[0m\u001B[1;33m)\u001B[0m\u001B[1;33m/\u001B[0m\u001B[1;33m(\u001B[0m\u001B[1;36m2\u001B[0m\u001B[1;33m*\u001B[0m\u001B[0mz\u001B[0m\u001B[1;33m)\u001B[0m\u001B[1;33m)\u001B[0m\u001B[1;33m**\u001B[0m\u001B[1;36m2\u001B[0m\u001B[1;33m*\u001B[0m\u001B[0mnp\u001B[0m\u001B[1;33m.\u001B[0m\u001B[0msin\u001B[0m\u001B[1;33m(\u001B[0m\u001B[1;33m(\u001B[0m\u001B[0md\u001B[0m\u001B[1;33m*\u001B[0m\u001B[0mk\u001B[0m\u001B[1;33m*\u001B[0m\u001B[0mx\u001B[0m\u001B[1;33m)\u001B[0m\u001B[1;33m/\u001B[0m\u001B[1;33m(\u001B[0m\u001B[1;36m2\u001B[0m\u001B[1;33m*\u001B[0m\u001B[0mz\u001B[0m\u001B[1;33m)\u001B[0m\u001B[1;33m)\u001B[0m\u001B[1;33m**\u001B[0m\u001B[1;36m2\u001B[0m\u001B[1;33m)\u001B[0m\u001B[1;33m/\u001B[0m\u001B[1;33m(\u001B[0m\u001B[0mk\u001B[0m\u001B[1;33m*\u001B[0m\u001B[0mPi\u001B[0m\u001B[1;33m*\u001B[0m\u001B[0mx\u001B[0m\u001B[1;33m**\u001B[0m\u001B[1;36m2\u001B[0m\u001B[1;33m)\u001B[0m\u001B[1;33m\u001B[0m\u001B[1;33m\u001B[0m\u001B[0m\n\u001B[1;32m----> 7\u001B[1;33m \u001B[0mdata\u001B[0m\u001B[1;33m=\u001B[0m\u001B[0mnp\u001B[0m\u001B[1;33m.\u001B[0m\u001B[0mgenfromtxt\u001B[0m\u001B[1;33m(\u001B[0m\u001B[1;34m'data2.csv'\u001B[0m\u001B[1;33m,\u001B[0m \u001B[0mdelimiter\u001B[0m\u001B[1;33m=\u001B[0m\u001B[1;34m','\u001B[0m\u001B[1;33m)\u001B[0m\u001B[1;33m\u001B[0m\u001B[1;33m\u001B[0m\u001B[0m\n\u001B[0m\u001B[0;32m      8\u001B[0m \u001B[0mplt\u001B[0m\u001B[1;33m.\u001B[0m\u001B[0mfigure\u001B[0m\u001B[1;33m(\u001B[0m\u001B[1;33m)\u001B[0m\u001B[1;33m\u001B[0m\u001B[1;33m\u001B[0m\u001B[0m\n\u001B[0;32m      9\u001B[0m \u001B[0mplt\u001B[0m\u001B[1;33m.\u001B[0m\u001B[0mplot\u001B[0m\u001B[1;33m(\u001B[0m\u001B[0mX\u001B[0m\u001B[1;33m,\u001B[0m\u001B[0mdata\u001B[0m\u001B[1;33m)\u001B[0m\u001B[1;33m\u001B[0m\u001B[1;33m\u001B[0m\u001B[0m\n",
      "\u001B[1;32mc:\\users\\user\\appdata\\local\\programs\\python\\python38\\lib\\site-packages\\numpy\\lib\\npyio.py\u001B[0m in \u001B[0;36mgenfromtxt\u001B[1;34m(fname, dtype, comments, delimiter, skip_header, skip_footer, converters, missing_values, filling_values, usecols, names, excludelist, deletechars, replace_space, autostrip, case_sensitive, defaultfmt, unpack, usemask, loose, invalid_raise, max_rows, encoding)\u001B[0m\n\u001B[0;32m   1747\u001B[0m             \u001B[0mfname\u001B[0m \u001B[1;33m=\u001B[0m \u001B[0mos_fspath\u001B[0m\u001B[1;33m(\u001B[0m\u001B[0mfname\u001B[0m\u001B[1;33m)\u001B[0m\u001B[1;33m\u001B[0m\u001B[1;33m\u001B[0m\u001B[0m\n\u001B[0;32m   1748\u001B[0m         \u001B[1;32mif\u001B[0m \u001B[0misinstance\u001B[0m\u001B[1;33m(\u001B[0m\u001B[0mfname\u001B[0m\u001B[1;33m,\u001B[0m \u001B[0mstr\u001B[0m\u001B[1;33m)\u001B[0m\u001B[1;33m:\u001B[0m\u001B[1;33m\u001B[0m\u001B[1;33m\u001B[0m\u001B[0m\n\u001B[1;32m-> 1749\u001B[1;33m             \u001B[0mfid\u001B[0m \u001B[1;33m=\u001B[0m \u001B[0mnp\u001B[0m\u001B[1;33m.\u001B[0m\u001B[0mlib\u001B[0m\u001B[1;33m.\u001B[0m\u001B[0m_datasource\u001B[0m\u001B[1;33m.\u001B[0m\u001B[0mopen\u001B[0m\u001B[1;33m(\u001B[0m\u001B[0mfname\u001B[0m\u001B[1;33m,\u001B[0m \u001B[1;34m'rt'\u001B[0m\u001B[1;33m,\u001B[0m \u001B[0mencoding\u001B[0m\u001B[1;33m=\u001B[0m\u001B[0mencoding\u001B[0m\u001B[1;33m)\u001B[0m\u001B[1;33m\u001B[0m\u001B[1;33m\u001B[0m\u001B[0m\n\u001B[0m\u001B[0;32m   1750\u001B[0m             \u001B[0mfid_ctx\u001B[0m \u001B[1;33m=\u001B[0m \u001B[0mcontextlib\u001B[0m\u001B[1;33m.\u001B[0m\u001B[0mclosing\u001B[0m\u001B[1;33m(\u001B[0m\u001B[0mfid\u001B[0m\u001B[1;33m)\u001B[0m\u001B[1;33m\u001B[0m\u001B[1;33m\u001B[0m\u001B[0m\n\u001B[0;32m   1751\u001B[0m         \u001B[1;32melse\u001B[0m\u001B[1;33m:\u001B[0m\u001B[1;33m\u001B[0m\u001B[1;33m\u001B[0m\u001B[0m\n",
      "\u001B[1;32mc:\\users\\user\\appdata\\local\\programs\\python\\python38\\lib\\site-packages\\numpy\\lib\\_datasource.py\u001B[0m in \u001B[0;36mopen\u001B[1;34m(path, mode, destpath, encoding, newline)\u001B[0m\n\u001B[0;32m    193\u001B[0m \u001B[1;33m\u001B[0m\u001B[0m\n\u001B[0;32m    194\u001B[0m     \u001B[0mds\u001B[0m \u001B[1;33m=\u001B[0m \u001B[0mDataSource\u001B[0m\u001B[1;33m(\u001B[0m\u001B[0mdestpath\u001B[0m\u001B[1;33m)\u001B[0m\u001B[1;33m\u001B[0m\u001B[1;33m\u001B[0m\u001B[0m\n\u001B[1;32m--> 195\u001B[1;33m     \u001B[1;32mreturn\u001B[0m \u001B[0mds\u001B[0m\u001B[1;33m.\u001B[0m\u001B[0mopen\u001B[0m\u001B[1;33m(\u001B[0m\u001B[0mpath\u001B[0m\u001B[1;33m,\u001B[0m \u001B[0mmode\u001B[0m\u001B[1;33m,\u001B[0m \u001B[0mencoding\u001B[0m\u001B[1;33m=\u001B[0m\u001B[0mencoding\u001B[0m\u001B[1;33m,\u001B[0m \u001B[0mnewline\u001B[0m\u001B[1;33m=\u001B[0m\u001B[0mnewline\u001B[0m\u001B[1;33m)\u001B[0m\u001B[1;33m\u001B[0m\u001B[1;33m\u001B[0m\u001B[0m\n\u001B[0m\u001B[0;32m    196\u001B[0m \u001B[1;33m\u001B[0m\u001B[0m\n\u001B[0;32m    197\u001B[0m \u001B[1;33m\u001B[0m\u001B[0m\n",
      "\u001B[1;32mc:\\users\\user\\appdata\\local\\programs\\python\\python38\\lib\\site-packages\\numpy\\lib\\_datasource.py\u001B[0m in \u001B[0;36mopen\u001B[1;34m(self, path, mode, encoding, newline)\u001B[0m\n\u001B[0;32m    533\u001B[0m                                       encoding=encoding, newline=newline)\n\u001B[0;32m    534\u001B[0m         \u001B[1;32melse\u001B[0m\u001B[1;33m:\u001B[0m\u001B[1;33m\u001B[0m\u001B[1;33m\u001B[0m\u001B[0m\n\u001B[1;32m--> 535\u001B[1;33m             \u001B[1;32mraise\u001B[0m \u001B[0mIOError\u001B[0m\u001B[1;33m(\u001B[0m\u001B[1;34m\"%s not found.\"\u001B[0m \u001B[1;33m%\u001B[0m \u001B[0mpath\u001B[0m\u001B[1;33m)\u001B[0m\u001B[1;33m\u001B[0m\u001B[1;33m\u001B[0m\u001B[0m\n\u001B[0m\u001B[0;32m    536\u001B[0m \u001B[1;33m\u001B[0m\u001B[0m\n\u001B[0;32m    537\u001B[0m \u001B[1;33m\u001B[0m\u001B[0m\n",
      "\u001B[1;31mOSError\u001B[0m: data2.csv not found."
     ]
    }
   ],
   "metadata": {}
  },
  {
   "cell_type": "code",
   "source": [
    "z=1\n",
    "k=1\n",
    "d=1\n",
    "L=1\n",
    "n=1\n",
    "def csc(x):\n",
    "    return 1/np.sin(x)\n",
    "def I(x):\n",
    "    return (2*z*csc((k*L*x)/(2*z))**2*np.sin((d*k*x)/(2*z))**2*np.sin((k*L*(1 + 2*n)*x)/(2*z))**2)/(k*Pi*x**2)\n",
    "data=np.genfromtxt('datan.csv', delimiter=',')\n",
    "plt.figure()\n",
    "plt.plot(X,data)\n",
    "plt.plot(X,I(X))\n",
    "plt.legend(['data','expected'])\n",
    "plt.show()"
   ],
   "execution_count": null,
   "outputs": [],
   "metadata": {}
  }
 ],
 "metadata": {
  "kernelspec": {
   "name": "python3",
   "language": "python",
   "display_name": "Python 3"
  }
 },
 "nbformat": 4,
 "nbformat_minor": 0
}