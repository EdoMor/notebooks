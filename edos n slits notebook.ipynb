{
 "cells": [
  {
   "cell_type": "code",
   "execution_count": 1,
   "metadata": {
    "collapsed": true
   },
   "outputs": [],
   "source": [
    "import matplotlib.pyplot as plt\n",
    "import numpy as np\n",
    "import ease_of_live_scripts as es\n",
    "from sympy import *\n",
    "from IPython.display import display, Latex\n",
    "from scipy import optimize as fit\n",
    "from pprint import *\n",
    "import seaborn as sbs\n",
    "import winsound\n",
    "sbs.set()\n"
   ]
  },
  {
   "cell_type": "code",
   "execution_count": null,
   "outputs": [],
   "source": [
    "pname=['s', 'A', 'z', 'd', 'wl', 'L', 'n', 'offset']\n",
    "z=0.84\n",
    "d=4.0e-5\n",
    "L=10.0e-5\n",
    "A=4\n",
    "wl=(6.328*(10**(-7)))\n",
    "n=10\n",
    "offset=+0.005\n",
    "s=0.0005\n",
    "def model_integrate(xdata,model,s,*args):\n",
    "    ydata=np.zeros(len(xdata))\n",
    "    for i in range(len(xdata)):\n",
    "        ydata[i]=np.sum(model(np.linspace(xdata[i]-s,xdata[i]+s,1000),*args)*(s/1000))\n",
    "    return ydata\n",
    "def newmodel(x,s,*args):\n",
    "    return model_integrate(x,es.n_slits_model,s,*args)\n",
    "\n",
    "data=es.read('exp1125/original parameters/10 lines per millimiters','sweep2.txt')\n",
    "xdata=z*np.sin(np.deg2rad((es.volt_to_angle(data['angle'])))) #x data agusted for distortion\n",
    "ydata=-data['power']\n",
    "plt.plot(xdata,ydata,'.',markersize=1,zorder=2,color=sbs.color_palette()[7])\n",
    "popt, pcov=fit.curve_fit(newmodel,xdata,ydata,[s, A, z, d, wl, L, n, offset],\n",
    "                         bounds=((0     ,0     ,z-0.001*z,d-0.01*d,wl-wl*0.001,L-L*0.01,n-n/2,-np.inf),\n",
    "                                 (5    ,np.inf,z+0.001*z,d+0.01*d,wl+wl*0.001,L+L*0.01,n+n/2,np.inf)))\n",
    "plt.plot(xdata,newmodel(xdata,popt[0],*popt[1:]),zorder=1,color=sbs.color_palette()[3])\n",
    "# plt.plot(xdata,newmodel(xdata,s,*[A, z, d, wl, L, n, offset]),zorder=1,color=sbs.color_palette()[3])\n",
    "plt.legend(['data','theory'])\n",
    "plt.show()\n",
    "for i in range(len(popt)): print(pname[i]+':'+str(popt[i]))\n",
    "print('R^2:'+str(es.Rsquared(xdata,ydata,newmodel,popt)))"
   ],
   "metadata": {
    "collapsed": false,
    "pycharm": {
     "name": "#%%\n"
    }
   }
  },
  {
   "cell_type": "code",
   "execution_count": null,
   "outputs": [],
   "source": [
    "def model_integrate(xdata,model,s,*args):\n",
    "    ydata=np.zeros(len(xdata))\n",
    "    for i in range(len(xdata)):\n",
    "        ydata[i]=np.average(model(np.linspace(xdata[i]-s,xdata[i]+s,1000),*args))\n",
    "    return ydata\n",
    "def newmodel(x,s,*args):\n",
    "    return model_integrate(x,es.n_slits_model,s,*args)\n",
    "plt.plot(xdata,ydata,'.',markersize=1,zorder=2,color=sbs.color_palette()[7])\n",
    "\n",
    "s=0.0005806150260206035\n",
    "A=4.784985756434743\n",
    "z=0.8404798789430529\n",
    "d=3.9736736171749734e-05\n",
    "wl=6.332016435415973e-07\n",
    "L=9.994032286487274e-05\n",
    "n=9.999943352078985\n",
    "offset=0.004934551042157292\n",
    "plt.plot(xdata,newmodel(xdata,s,*[A, z, d, wl, L, n, offset]),zorder=1,color=sbs.color_palette()[3])\n",
    "plt.show()"
   ],
   "metadata": {
    "collapsed": false,
    "pycharm": {
     "name": "#%%\n"
    }
   }
  },
  {
   "cell_type": "code",
   "execution_count": null,
   "outputs": [],
   "source": [
    "x,A,z,wl,L,offset,n,d=symbols('x,A,z,lambda,L,x0,n,d')\n",
    "xd,xd0=symbols(\"x_d,x0_d\")\n",
    "xL,xL0=symbols(\"x_L,x0_L\")\n",
    "xn,xn0=symbols(\"x_n,x0_n\")\n",
    "p2=symbols('p2')\n",
    "pn=symbols('p_n')\n",
    "pL=symbols('p_L')\n",
    "display(Latex(r\"$$x_d= \\frac{\\pi d}{\\lambda z}x$$\"))\n",
    "# display(Latex(r\"$$x_L= \\frac{\\pi L}{\\lambda z}x$$\"))\n",
    "# display(Latex(r\"$$x_n= \\frac{\\pi L(2n+1)}{\\lambda z}x$$\"))\n",
    "display(Latex(r\"$$p_2=\\frac{A d^2}{\\lambda z}$$\"))\n",
    "display(Latex(r\"$$p_n=\\frac{L(2n+1)}{d}$$\"))\n",
    "display(Latex(r\"$$p_L=\\frac{L}{d}$$\"))\n",
    "display(Latex(\"$${}$$\".format(latex(A * (2 * z * csc(((2 * pi / wl) * L * (x - offset)) / (2 * z)) ** 2 * sin(\n",
    "        (d * (2 * pi / wl) * (x - offset)) / (2 * z)) ** 2 * sin(\n",
    "        ((2 * pi / wl) * L * (1 + 2 * n) * (x - offset)) / (2 * z)) ** 2) / (\n",
    "                   (2 * pi / wl) * pi * (x - offset) ** 2)))))\n",
    "display(Latex(\"$${}$$\".format(latex(p2 * (csc(pL*(xd-xd0)) ** 2 * sin(pn*(xd-xd0)) ** 2 * sin(xd-xd0) ** 2) / ((xd - xd0) ** 2)))))"
   ],
   "metadata": {
    "collapsed": false,
    "pycharm": {
     "name": "#%%\n"
    }
   }
  },
  {
   "cell_type": "code",
   "execution_count": null,
   "outputs": [],
   "source": [
    "\n",
    "pname=['s', 'p2', 'pL', 'pn', 'xd0']\n",
    "z=0.85\n",
    "d=4.49e-5\n",
    "L=6.74e-5\n",
    "A=50\n",
    "wl=(6.328*(10**(-7)))\n",
    "n=100#probobly 14 might me 24 but most likely not\n",
    "offset=0\n",
    "s=5.0e-5\n",
    "p2, pL, pn, xd0=[A*d**2/(wl*z),L/d,L*((2*n)+1)/d,np.pi*d*offset/(wl*z)]\n",
    "def model_integrate(xdata,model,s,*args):\n",
    "    ydata=np.zeros(len(xdata))\n",
    "    for i in range(len(xdata)):\n",
    "        ydata[i]=np.sum(model(np.linspace(xdata[i]-s,xdata[i]+s,100),*args)*(s/100))\n",
    "    return ydata\n",
    "def newmodel(x,s,*args):\n",
    "    return model_integrate(x,es.n_slits_model_reduced,s,*args)# xd, p2, pL, pn, xd0\n",
    "\n",
    "data=es.read('exp1125/original parameters/10 lines per millimiters','sweep2.txt')\n",
    "xdata=z*np.sin(np.deg2rad((es.volt_to_angle(data['angle'])))) #x data agusted for distortion\n",
    "ydata=-data['power']\n",
    "plt.plot(xdata,ydata,'.',markersize=1,zorder=2,color=sbs.color_palette()[7])\n",
    "popt, pcov=fit.curve_fit(newmodel,xdata,ydata,[s, p2, pL, pn, xd0],bounds=((0,0,0,0,-np.inf),\n",
    "                                                                           (np.inf,np.inf,np.inf,np.inf,np.inf)))\n",
    "plt.plot(xdata,newmodel(xdata,*popt),zorder=1,color=sbs.color_palette()[3])\n",
    "plt.legend(['data','theory'])\n",
    "plt.show()\n",
    "for i in range(len(popt)): print(pname[i]+':'+str(popt[i]))\n",
    "print('R^2:'+str(es.Rsquared(xdata,ydata,newmodel,popt)))\n",
    "ring()"
   ],
   "metadata": {
    "collapsed": false,
    "pycharm": {
     "name": "#%%\n"
    }
   }
  },
  {
   "cell_type": "code",
   "execution_count": null,
   "outputs": [],
   "source": [
    "def model_integrate(xdata,model,s,*args):\n",
    "    q=1000\n",
    "    ydata=np.zeros(len(xdata))\n",
    "    for i in range(len(xdata)):\n",
    "        ydata[i]=np.sum(model(np.linspace(xdata[i]-s,xdata[i]+s,q),*args)*(2*s/q))\n",
    "    return ydata\n",
    "def newmodel(x,s,*args):\n",
    "    return model_integrate(x,es.n_slits_model_reduced,s,*args)# xd, p2, pL, pn, xd0\n",
    "\n",
    "\n",
    "z=0.85\n",
    "d=4.49e-5\n",
    "L=6.74e-5\n",
    "A=50\n",
    "wl=(6.328*(10**(-7)))\n",
    "n=24#probobly 14 might me 24 but most likely not\n",
    "offset=0\n",
    "s=5.0e-5\n",
    "\n",
    "\n",
    "p2, pL, pn, xd0=[A*d**2/(wl*z*L),L/d,L*((2*n)+1)/d,np.pi*d*offset/(wl*z)]\n",
    "xdata=np.linspace(-10,10,20000)\n",
    "plt.plot(xdata,newmodel(xdata,*[s, p2, pL, pn, xd0]),zorder=1,color=sbs.color_palette()[3])\n",
    "plt.show()"
   ],
   "metadata": {
    "collapsed": false,
    "pycharm": {
     "name": "#%%\n"
    }
   }
  },
  {
   "cell_type": "code",
   "execution_count": null,
   "outputs": [],
   "source": [
    "z=0.85\n",
    "\n",
    "import os\n",
    "wlk=os.walk('exp1202/n slits')\n",
    "for folder in es.list_folders('exp1202/n slits'):\n",
    "    for file in es.list_files(str(os.path.join('exp1202/n slits',str(folder)))):\n",
    "        path=os.path.join('exp1202/n slits',folder)\n",
    "        data=es.read(path,file)\n",
    "        xdata=z*np.sin(np.deg2rad(es.volt_to_angle(data['angle'])))\n",
    "        ydata=-data['power']\n",
    "        plt.figure()\n",
    "        plt.plot(xdata,ydata,'.',markersize=1,color=sbs.color_palette()[7])\n",
    "        plt.title(str(os.path.join(folder,file)))\n",
    "plt.show()"
   ],
   "metadata": {
    "collapsed": false,
    "pycharm": {
     "name": "#%%\n"
    }
   }
  },
  {
   "cell_type": "code",
   "execution_count": 4,
   "outputs": [
    {
     "data": {
      "text/plain": "<Figure size 432x288 with 1 Axes>",
      "image/png": "[encoded data removed]"
     },
     "metadata": {},
     "output_type": "display_data"
    }
   ],
   "source": [
    "def newmodel(x,s,*args):\n",
    "    return es.model_integrate(x,es.n_slits_model_reduced,s,*args)\n",
    "\n",
    "z=0.85\n",
    "d=4.49e-5\n",
    "L=6.74e-5\n",
    "A=50\n",
    "wl=(6.328*(10**(-7)))\n",
    "n=24#probobly 14 might me 24 but most likely not\n",
    "offset=0\n",
    "s=5.0e-5\n",
    "p2, pL, pn, xd0=[A*d**2/(wl*z*L),L/d,L*((2*n)+1)/d,np.pi*d*offset/(wl*z)]\n",
    "\n",
    "data=es.read('exp1202/n slits/8 per mm','sweep 1.txt')\n",
    "xdata=z*np.sin(np.deg2rad(es.volt_to_angle(data['angle'])))\n",
    "ydata=-data['power']\n",
    "plt.plot(xdata,ydata,'.',markersize=1,color=sbs.color_palette()[7])\n",
    "popt, pcov=fit.curve_fit(newmodel,xdata,ydata,[s, p2, pL, pn, xd0],bounds=((0,0,0,0,-np.inf),\n",
    "                                                                           (np.inf,np.inf,np.inf,np.inf,np.inf)))\n",
    "plt.plot(xdata,newmodel(xdata,*popt),zorder=1,color=sbs.color_palette()[3])\n",
    "plt.show()"
   ],
   "metadata": {
    "collapsed": false,
    "pycharm": {
     "name": "#%%\n"
    }
   }
  }
 ],
 "metadata": {
  "kernelspec": {
   "display_name": "Python 3",
   "language": "python",
   "name": "python3"
  },
  "language_info": {
   "codemirror_mode": {
    "name": "ipython",
    "version": 2
   },
   "file_extension": ".py",
   "mimetype": "text/x-python",
   "name": "python",
   "nbconvert_exporter": "python",
   "pygments_lexer": "ipython2",
   "version": "2.7.6"
  }
 },
 "nbformat": 4,
 "nbformat_minor": 0
}