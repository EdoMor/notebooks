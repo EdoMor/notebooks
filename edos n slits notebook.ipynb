{
 "cells": [
  {
   "cell_type": "code",
   "execution_count": 1,
   "metadata": {
    "collapsed": true
   },
   "outputs": [],
   "source": [
    "import matplotlib.pyplot as plt\n",
    "import numpy as np\n",
    "from sympy import *\n",
    "import ease_of_live_scripts as es\n",
    "from scipy import optimize as fit\n",
    "from pprint import *\n",
    "import seaborn as sbs\n",
    "sbs.set()"
   ]
  },
  {
   "cell_type": "code",
   "execution_count": 38,
   "outputs": [
    {
     "data": {
      "text/plain": "<Figure size 432x288 with 1 Axes>",
      "image/png": "[encoded data removed]"
     },
     "metadata": {},
     "output_type": "display_data"
    },
    {
     "name": "stdout",
     "output_type": "stream",
     "text": [
      "s:0.0010047538020737424\n",
      "A:0.13253301226437722\n",
      "z:0.854830652066991\n",
      "d:3.9986411909714365e-05\n",
      "wl:6.327272934910918e-07\n",
      "L:7.000610237170507e-05\n",
      "n:500.0003910595942\n",
      "offset:0.005000213714700907\n",
      "R^2:-6178.455078007227\n"
     ]
    }
   ],
   "source": [
    "pname=['s', 'A', 'z', 'd', 'wl', 'L', 'n', 'offset']\n",
    "z=0.855\n",
    "d=4.0e-5\n",
    "L=7.0e-5\n",
    "A=50\n",
    "wl=(6.328*(10**(-7)))\n",
    "n=500\n",
    "offset=+0.005\n",
    "s=0.001\n",
    "def model_integrate(xdata,model,s,*args):\n",
    "    ydata=np.zeros(len(xdata))\n",
    "    for i in range(len(xdata)):\n",
    "        ydata[i]=np.sum(model(np.linspace(xdata[i]-s,xdata[i]+s),*args))\n",
    "    return ydata\n",
    "def newmodel(x,s,*args):\n",
    "    return model_integrate(x,es.n_slits_model,s,*args)\n",
    "\n",
    "data=es.read('exp1125/original parameters/10 lines per millimiters','sweep2.txt')\n",
    "xdata=z*np.sin(np.deg2rad((es.volt_to_angle(data['angle'])))) #x data agusted for distortion\n",
    "ydata=-data['power']\n",
    "plt.plot(xdata,ydata,'.',markersize=1,zorder=2,color=sbs.color_palette()[7])\n",
    "popt, pcov=fit.curve_fit(newmodel,xdata,ydata,[s, A, z, d, wl, L, n, offset],\n",
    "                         bounds=((0     ,0     ,z-0.001*z,d-0.001*d,wl-wl*0.001,L-L*0.001,n-100,-np.inf),\n",
    "                                 (1     ,np.inf,z+0.001*z,d+0.001*d,wl+wl*0.001,L+L*0.001,n+100,np.inf)))\n",
    "plt.plot(xdata,newmodel(xdata,popt[0],*popt[1:]),zorder=1,color=sbs.color_palette()[3])\n",
    "# plt.plot(xdata,newmodel(xdata,s,*[A, z, d, wl, L, n, offset]),zorder=1,color=sbs.color_palette()[3])\n",
    "plt.legend(['data','theory'])\n",
    "plt.show()\n",
    "for i in range(len(popt)): print(pname[i]+':'+str(popt[i]))\n",
    "print('R^2:'+str(es.Rsquared(xdata,ydata,newmodel,popt)))"
   ],
   "metadata": {
    "collapsed": false,
    "pycharm": {
     "name": "#%%\n"
    }
   }
  }
 ],
 "metadata": {
  "kernelspec": {
   "display_name": "Python 3",
   "language": "python",
   "name": "python3"
  },
  "language_info": {
   "codemirror_mode": {
    "name": "ipython",
    "version": 2
   },
   "file_extension": ".py",
   "mimetype": "text/x-python",
   "name": "python",
   "nbconvert_exporter": "python",
   "pygments_lexer": "ipython2",
   "version": "2.7.6"
  }
 },
 "nbformat": 4,
 "nbformat_minor": 0
}