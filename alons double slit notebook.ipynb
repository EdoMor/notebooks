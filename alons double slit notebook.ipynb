{
 "cells": [
  {
   "cell_type": "code",
   "execution_count": 79,
   "metadata": {
    "collapsed": true
   },
   "outputs": [],
   "source": [
    "import matplotlib.pyplot as plt\n",
    "import numpy as np\n",
    "from sympy import *\n",
    "import ease_of_live_scripts as es\n",
    "from scipy import optimize as fit\n",
    "from pprint import *\n",
    "import seaborn as sbs\n",
    "\n",
    "def aperture(f,x0,p0, D, res):\n",
    "    sum=0\n",
    "    for i in range(res):sum=sum+f(x0-D+i*2*D/res)\n",
    "    return sum"
   ]
  },
  {
   "cell_type": "code",
   "execution_count": 80,
   "outputs": [],
   "source": [
    "sbs.set()"
   ],
   "metadata": {
    "collapsed": false,
    "pycharm": {
     "name": "#%%\n"
    }
   }
  },
  {
   "cell_type": "code",
   "execution_count": 81,
   "outputs": [
    {
     "ename": "TypeError",
     "evalue": "'numpy.float64' object is not iterable",
     "output_type": "error",
     "traceback": [
      "\u001B[1;31m---------------------------------------------------------------------------\u001B[0m",
      "\u001B[1;31mTypeError\u001B[0m                                 Traceback (most recent call last)",
      "\u001B[1;32m<ipython-input-81-3ef3d2813eaa>\u001B[0m in \u001B[0;36m<module>\u001B[1;34m\u001B[0m\n\u001B[0;32m     23\u001B[0m         \u001B[0mx_ap\u001B[0m\u001B[1;33m.\u001B[0m\u001B[0mappend\u001B[0m\u001B[1;33m(\u001B[0m\u001B[1;36m0\u001B[0m\u001B[1;33m)\u001B[0m\u001B[1;33m\u001B[0m\u001B[1;33m\u001B[0m\u001B[0m\n\u001B[0;32m     24\u001B[0m         \u001B[1;32mfor\u001B[0m \u001B[0mj\u001B[0m \u001B[1;32min\u001B[0m \u001B[0mv\u001B[0m\u001B[1;33m:\u001B[0m\u001B[1;33m\u001B[0m\u001B[1;33m\u001B[0m\u001B[0m\n\u001B[1;32m---> 25\u001B[1;33m             \u001B[0mx_ap\u001B[0m\u001B[1;33m[\u001B[0m\u001B[0mi\u001B[0m\u001B[1;33m]\u001B[0m\u001B[1;33m+=\u001B[0m\u001B[0mes\u001B[0m\u001B[1;33m.\u001B[0m\u001B[0mdouble_slit_model\u001B[0m\u001B[1;33m(\u001B[0m\u001B[0mxdata\u001B[0m\u001B[1;33m[\u001B[0m\u001B[0mj\u001B[0m\u001B[1;33m]\u001B[0m\u001B[1;33m,\u001B[0m\u001B[1;33m*\u001B[0m\u001B[0mptest\u001B[0m\u001B[1;33m)\u001B[0m\u001B[1;33m\u001B[0m\u001B[1;33m\u001B[0m\u001B[0m\n\u001B[0m\u001B[0;32m     26\u001B[0m \u001B[0mplt\u001B[0m\u001B[1;33m.\u001B[0m\u001B[0mplot\u001B[0m\u001B[1;33m(\u001B[0m\u001B[0mxdata\u001B[0m\u001B[1;33m,\u001B[0m\u001B[0mx_ap\u001B[0m\u001B[1;33m,\u001B[0m\u001B[0mzorder\u001B[0m\u001B[1;33m=\u001B[0m\u001B[1;36m1\u001B[0m\u001B[1;33m,\u001B[0m\u001B[0mcolor\u001B[0m\u001B[1;33m=\u001B[0m\u001B[0msbs\u001B[0m\u001B[1;33m.\u001B[0m\u001B[0mcolor_palette\u001B[0m\u001B[1;33m(\u001B[0m\u001B[1;33m)\u001B[0m\u001B[1;33m[\u001B[0m\u001B[1;36m3\u001B[0m\u001B[1;33m]\u001B[0m\u001B[1;33m)\u001B[0m\u001B[1;33m\u001B[0m\u001B[1;33m\u001B[0m\u001B[0m\n\u001B[0;32m     27\u001B[0m \u001B[0mplt\u001B[0m\u001B[1;33m.\u001B[0m\u001B[0mxlim\u001B[0m\u001B[1;33m(\u001B[0m\u001B[1;33m[\u001B[0m\u001B[1;36m0\u001B[0m\u001B[1;33m,\u001B[0m\u001B[1;36m0.2\u001B[0m\u001B[1;33m]\u001B[0m\u001B[1;33m)\u001B[0m\u001B[1;33m\u001B[0m\u001B[1;33m\u001B[0m\u001B[0m\n",
      "\u001B[1;32m~\\PycharmProjects\\notebooks\\ease_of_live_scripts.py\u001B[0m in \u001B[0;36mdouble_slit_model\u001B[1;34m(x, A, z, d, wl, L, offset, B, res)\u001B[0m\n\u001B[0;32m     68\u001B[0m     \u001B[1;32mreturn\u001B[0m \u001B[0mA\u001B[0m \u001B[1;33m*\u001B[0m \u001B[1;33m(\u001B[0m\u001B[1;36m8\u001B[0m \u001B[1;33m*\u001B[0m \u001B[0mz\u001B[0m \u001B[1;33m*\u001B[0m \u001B[1;33m(\u001B[0m\u001B[0mnp\u001B[0m\u001B[1;33m.\u001B[0m\u001B[0mcos\u001B[0m\u001B[1;33m(\u001B[0m\u001B[1;33m(\u001B[0m\u001B[1;33m(\u001B[0m\u001B[1;36m2\u001B[0m \u001B[1;33m*\u001B[0m \u001B[0mnp\u001B[0m\u001B[1;33m.\u001B[0m\u001B[0mpi\u001B[0m \u001B[1;33m/\u001B[0m \u001B[0mwl\u001B[0m\u001B[1;33m)\u001B[0m \u001B[1;33m*\u001B[0m \u001B[0mL\u001B[0m \u001B[1;33m*\u001B[0m \u001B[1;33m(\u001B[0m\u001B[0mx\u001B[0m \u001B[1;33m-\u001B[0m \u001B[0moffset\u001B[0m\u001B[1;33m)\u001B[0m\u001B[1;33m)\u001B[0m \u001B[1;33m/\u001B[0m \u001B[1;33m(\u001B[0m\u001B[1;36m2\u001B[0m \u001B[1;33m*\u001B[0m \u001B[0mz\u001B[0m\u001B[1;33m)\u001B[0m\u001B[1;33m)\u001B[0m \u001B[1;33m**\u001B[0m \u001B[1;36m2\u001B[0m\u001B[1;33m)\u001B[0m \u001B[1;33m*\u001B[0m \u001B[0mnp\u001B[0m\u001B[1;33m.\u001B[0m\u001B[0msin\u001B[0m\u001B[1;33m(\u001B[0m\u001B[1;33m(\u001B[0m\u001B[0md\u001B[0m \u001B[1;33m*\u001B[0m \u001B[1;33m(\u001B[0m\u001B[1;36m2\u001B[0m \u001B[1;33m*\u001B[0m \u001B[0mnp\u001B[0m\u001B[1;33m.\u001B[0m\u001B[0mpi\u001B[0m \u001B[1;33m/\u001B[0m\u001B[0mwl\u001B[0m\u001B[1;33m)\u001B[0m \u001B[1;33m*\u001B[0m \u001B[1;33m(\u001B[0m\u001B[0mx\u001B[0m\u001B[1;33m-\u001B[0m \u001B[0moffset\u001B[0m\u001B[1;33m)\u001B[0m\u001B[1;33m)\u001B[0m \u001B[1;33m/\u001B[0m \u001B[1;33m(\u001B[0m\u001B[1;36m2\u001B[0m \u001B[1;33m*\u001B[0m \u001B[0mz\u001B[0m\u001B[1;33m)\u001B[0m\u001B[1;33m)\u001B[0m \u001B[1;33m**\u001B[0m \u001B[1;36m2\u001B[0m\u001B[1;33m)\u001B[0m \u001B[1;33m/\u001B[0m \u001B[1;33m(\u001B[0m\u001B[1;33m(\u001B[0m\u001B[1;36m2\u001B[0m \u001B[1;33m*\u001B[0m \u001B[0mnp\u001B[0m\u001B[1;33m.\u001B[0m\u001B[0mpi\u001B[0m \u001B[1;33m/\u001B[0m \u001B[0mwl\u001B[0m\u001B[1;33m)\u001B[0m \u001B[1;33m*\u001B[0m \u001B[0mnp\u001B[0m\u001B[1;33m.\u001B[0m\u001B[0mpi\u001B[0m \u001B[1;33m*\u001B[0m \u001B[1;33m(\u001B[0m\u001B[0mx\u001B[0m \u001B[1;33m-\u001B[0m \u001B[0moffset\u001B[0m\u001B[1;33m)\u001B[0m \u001B[1;33m**\u001B[0m \u001B[1;36m2\u001B[0m\u001B[1;33m)\u001B[0m\u001B[1;33m\u001B[0m\u001B[1;33m\u001B[0m\u001B[0m\n\u001B[0;32m     69\u001B[0m \u001B[1;33m\u001B[0m\u001B[0m\n\u001B[1;32m---> 70\u001B[1;33m \u001B[1;33m\u001B[0m\u001B[0m\n\u001B[0m\u001B[0;32m     71\u001B[0m \u001B[1;32mdef\u001B[0m \u001B[0mn_slits_model\u001B[0m\u001B[1;33m(\u001B[0m\u001B[0mx\u001B[0m\u001B[1;33m,\u001B[0m \u001B[0mA\u001B[0m\u001B[1;33m,\u001B[0m \u001B[0mz\u001B[0m\u001B[1;33m,\u001B[0m \u001B[0md\u001B[0m\u001B[1;33m,\u001B[0m \u001B[0mk\u001B[0m\u001B[1;33m,\u001B[0m \u001B[0mL\u001B[0m\u001B[1;33m,\u001B[0m \u001B[0mn\u001B[0m\u001B[1;33m)\u001B[0m\u001B[1;33m:\u001B[0m\u001B[1;33m\u001B[0m\u001B[1;33m\u001B[0m\u001B[0m\n\u001B[0;32m     72\u001B[0m     return A * (2 * z * csc((k * L * x) / (2 * z)) ** 2 * np.sin((d * k * x) / (2 * z)) ** 2 * np.sin(\n",
      "\u001B[1;31mTypeError\u001B[0m: 'numpy.float64' object is not iterable"
     ]
    }
   ],
   "source": [
    "pname=['A', 'z', 'd', 'wl','L', 'offset']\n",
    "z=0.855\n",
    "wl=(6.328*(10**(-7)))\n",
    "d=4.0e-5\n",
    "L=25.0e-5\n",
    "A=50\n",
    "offset = 0.005\n",
    "res=1000\n",
    "v = range(0,res)\n",
    "ptest = [A, z, d, wl, L, offset, B, res]\n",
    "data=es.read('exp1125/original parameters/double slit/0.04w 0.25s slit not centered symmeyricly','sweep1.txt')\n",
    "s,f=[200,-200]\n",
    "r,c=[50,1985]\n",
    "xdata=z*np.sin(np.deg2rad((es.volt_to_angle(data['angle']))[int(c-r):int(c+r)])) #x data agusted for distortion\n",
    "ydata=-data['power'][int(c-r):int(c+r)]\n",
    "'''plt.plot(xdata,ydata,'.',markersize=1,zorder=2,color=sbs.color_palette()[7])\n",
    "popt, pcov=fit.curve_fit(es.double_slit_model,xdata,ydata,[A, z, d, wl, L , es.offset],\n",
    "                         bounds=((0      ,z-0.001*z     ,d-0.001*d,wl-wl*0.001,L-0.001*L,-10,0,0),\n",
    "                                 ( np.inf,z+0.001*z,d+0.001*d,wl+wl*0.001,L+0.001*L,np.inf,0.01,200)))\n",
    "plt.plot(xdata,es.double_slit_model(xdata,*popt),zorder=1,color=sbs.color_palette()[3])'''\n",
    "x_ap = [];\n",
    "for i in range(len(xdata)):\n",
    "        x_ap.append(0)\n",
    "        for j in v:\n",
    "            x_ap[i]+=es.double_slit_model(xdata[j],*ptest)\n",
    "plt.plot(xdata,x_ap,zorder=1,color=sbs.color_palette()[3])\n",
    "plt.xlim([0,0.2])\n",
    "plt.legend(['data','theory'])\n",
    "plt.title('double slit interference 0.04mm spaced 0.25mm')\n",
    "plt.xlabel('distance[meter]')\n",
    "plt.ylabel('laser amplitude[volt]')\n",
    "plt.show()\n",
    "'''for i in range(len(popt)): print(pname[i]+':'+str(popt[i]))\n",
    "print('R^2:'+str(es.Rsquared(xdata,ydata,es.double_slit_model,popt)))'''\n",
    "\n",
    "\n"
   ],
   "metadata": {
    "collapsed": false,
    "pycharm": {
     "name": "#%%\n"
    }
   }
  }
 ],
 "metadata": {
  "kernelspec": {
   "display_name": "Python 3",
   "language": "python",
   "name": "python3"
  },
  "language_info": {
   "codemirror_mode": {
    "name": "ipython",
    "version": 2
   },
   "file_extension": ".py",
   "mimetype": "text/x-python",
   "name": "python",
   "nbconvert_exporter": "python",
   "pygments_lexer": "ipython2",
   "version": "2.7.6"
  }
 },
 "nbformat": 4,
 "nbformat_minor": 0
}